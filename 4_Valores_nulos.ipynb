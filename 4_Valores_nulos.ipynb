{
 "cells": [
  {
   "cell_type": "code",
   "execution_count": 16,
   "metadata": {},
   "outputs": [],
   "source": [
    "#Importo librerias\n",
    "import pandas as pd\n",
    "import numpy as np"
   ]
  },
  {
   "cell_type": "code",
   "execution_count": null,
   "metadata": {},
   "outputs": [],
   "source": [
    "#Leo mi archivo.csv\n",
    "Alumnos = pd.read_csv(\"MiClaseAnalitica.csv\") #, index_col=0\n",
    "Alumnos"
   ]
  },
  {
   "cell_type": "code",
   "execution_count": null,
   "metadata": {},
   "outputs": [],
   "source": [
    "#Verifico el tipo de dato de mi elemento alumnos\n",
    "type(Alumnos)"
   ]
  },
  {
   "cell_type": "code",
   "execution_count": null,
   "metadata": {},
   "outputs": [],
   "source": [
    "#verificamos la ubicación de los elemenmtos nulos del dataframe\n",
    "Dataframe_nulos= Alumnos.isnull()\n",
    "Dataframe_nulos"
   ]
  },
  {
   "cell_type": "code",
   "execution_count": null,
   "metadata": {},
   "outputs": [],
   "source": [
    "#Obtenemos la cuenta de los elementos nulos del dataframe por COLUMNA\n",
    "Cuenta_Nulos= Alumnos.isnull().sum()\n",
    "Cuenta_Nulos"
   ]
  },
  {
   "cell_type": "code",
   "execution_count": null,
   "metadata": {},
   "outputs": [],
   "source": [
    "#Obtenemos la cuenta de los elementos nulos del dataframe por FILA\n",
    "Cuenta_Nulos= Alumnos.isnull().sum(axis=1)\n",
    "Cuenta_Nulos"
   ]
  },
  {
   "cell_type": "code",
   "execution_count": null,
   "metadata": {},
   "outputs": [],
   "source": [
    "#Obtenemos la cuenta de los elementos nulos del dataframe completo\n",
    "Cuenta_Total_Nulos= Alumnos.isnull().sum().sum()\n",
    "Cuenta_Total_Nulos\n"
   ]
  },
  {
   "cell_type": "code",
   "execution_count": null,
   "metadata": {},
   "outputs": [],
   "source": [
    "#Verificamos cuantos datos hay de cada valor\n",
    "frecuencia= Alumnos['actividad'].value_counts()\n",
    "frecuencia"
   ]
  },
  {
   "cell_type": "code",
   "execution_count": null,
   "metadata": {},
   "outputs": [],
   "source": [
    "#Verificamos valores nulos por columna\n",
    "nulos= Alumnos['actividad'].value_counts(dropna=False)\n",
    "nulos"
   ]
  },
  {
   "cell_type": "code",
   "execution_count": null,
   "metadata": {},
   "outputs": [],
   "source": [
    "#Eliminamos filas con nulos\n",
    "Alumnos.dropna()"
   ]
  },
  {
   "cell_type": "code",
   "execution_count": null,
   "metadata": {},
   "outputs": [],
   "source": [
    "#Eliminamos columnas con nulos\n",
    "Alumnos.dropna(1)"
   ]
  },
  {
   "cell_type": "code",
   "execution_count": null,
   "metadata": {},
   "outputs": [],
   "source": [
    "#Sustituir valores nulos por un valor numérico en  concreto \n",
    "#Filtro por columnas\n",
    "Actividad_total=Alumnos.iloc[ : , [6]]\n",
    "Actividad_total.fillna(4) "
   ]
  },
  {
   "cell_type": "code",
   "execution_count": null,
   "metadata": {},
   "outputs": [],
   "source": [
    "#Sustituir valores nulos por un string en  concreto \n",
    "#Filtro por columnas\n",
    "Actividad_total=Alumnos.iloc[ : , [6]]\n",
    "Actividad_total.fillna(\"8 de ago en 14:14\")  "
   ]
  },
  {
   "cell_type": "code",
   "execution_count": null,
   "metadata": {},
   "outputs": [],
   "source": [
    "#Sustituir valores nulos por valores no nulos hacia adelante  \"forward fill\" (\"ffill\")\n",
    "#Filtro por columnas\n",
    "Actividad_total=Alumnos.iloc[ : , [6]]\n",
    "Actividad_total.fillna(method=\"ffill\")"
   ]
  },
  {
   "cell_type": "code",
   "execution_count": null,
   "metadata": {},
   "outputs": [],
   "source": [
    "#Sustituir valores nulos por valores no nulos hacia atrás backward fill\" (\"bfill\")\n",
    "#Filtro por columnas\n",
    "Actividad_total=Alumnos.iloc[ : , [6]]\n",
    "Actividad_total.fillna(method=\"bfill\")\n",
    "\n",
    "###esta es una prueba de sincronización"
   ]
  }
 ],
 "metadata": {
  "kernelspec": {
   "display_name": "Python 3.10.6 64-bit",
   "language": "python",
   "name": "python3"
  },
  "language_info": {
   "codemirror_mode": {
    "name": "ipython",
    "version": 3
   },
   "file_extension": ".py",
   "mimetype": "text/x-python",
   "name": "python",
   "nbconvert_exporter": "python",
   "pygments_lexer": "ipython3",
   "version": "3.10.6"
  },
  "orig_nbformat": 4,
  "vscode": {
   "interpreter": {
    "hash": "3eb06009a151591584a8e64b076b6e8b9584003a8eff826d2bd74c5ffbf9e972"
   }
  }
 },
 "nbformat": 4,
 "nbformat_minor": 2
}
